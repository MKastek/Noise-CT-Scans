{
 "cells": [
  {
   "cell_type": "code",
   "execution_count": 1,
   "id": "5d381f8d",
   "metadata": {},
   "outputs": [],
   "source": [
    "from pathlib import Path\n",
    "from pydicom import dcmread\n",
    "import numpy as np\n",
    "import matplotlib.pyplot as plt\n",
    "from matplotlib.patches import Rectangle\n",
    "from scipy.ndimage import gaussian_filter\n",
    "from scipy.interpolate import splrep, splev\n",
    "from scipy.interpolate import CubicSpline\n",
    "from scipy.interpolate import interp1d, RegularGridInterpolator\n",
    "import scipy.optimize as optimize\n",
    "import collections\n",
    "plt.rcParams['image.cmap'] = 'gray'"
   ]
  },
  {
   "cell_type": "code",
   "execution_count": 2,
   "id": "25a4aa29",
   "metadata": {},
   "outputs": [],
   "source": [
    "cardio_path = Path().resolve().parents[2] / \"dane\" / \"KARDIO ZAMKNIETE\"\n",
    "data_path = cardio_path / \"A001\" / \"DICOM\" / \"P1\" / \"E1\" / \"S1\""
   ]
  },
  {
   "cell_type": "code",
   "execution_count": 3,
   "id": "1431763f",
   "metadata": {},
   "outputs": [],
   "source": [
    "def convert_sequence_to_array(path: Path):\n",
    "    return np.stack([np.flip(dcmread(file).pixel_array) for file in data_path.iterdir()], axis=0)"
   ]
  },
  {
   "cell_type": "code",
   "execution_count": 4,
   "id": "abab01a9",
   "metadata": {},
   "outputs": [],
   "source": [
    "stacked = convert_sequence_to_array(data_path)"
   ]
  },
  {
   "cell_type": "code",
   "execution_count": 5,
   "id": "3f55f9f3",
   "metadata": {},
   "outputs": [],
   "source": [
    "path = Path().resolve().parents[1] / \"dane\" / \"KARDIO ZAMKNIETE\" / \"A001\" / \"DICOM\" / \"P1\" / \"E1\" / \"S1\""
   ]
  },
  {
   "cell_type": "code",
   "execution_count": 6,
   "id": "568b956e",
   "metadata": {},
   "outputs": [],
   "source": [
    "def get_data(data_path: Path, skip_index: np.ndarray = np.concatenate((np.arange(61, 67), np.arange(68, 78),\n",
    "                                                                       np.arange(79, 89), np.arange(90, 100),\n",
    "                                                                       np.arange(101, 111), np.arange(113, 123),\n",
    "                                                                       np.arange(124, 132)), axis=0)) -> np.ndarray:\n",
    "    \"\"\"\n",
    "    Return array with CT image data\n",
    "\n",
    "    Parameters\n",
    "    ----------\n",
    "    skip_index\n",
    "    data_path : Path\n",
    "        Path to folder with data\n",
    "\n",
    "    Returns\n",
    "    -------\n",
    "    `np.ndarray`\n",
    "\n",
    "    \"\"\"\n",
    "    return np.stack(\n",
    "        [np.flip(dcmread(file).pixel_array) for idx, file in enumerate(data_path.iterdir()) if idx not in skip_index],\n",
    "        axis=0)"
   ]
  },
  {
   "cell_type": "code",
   "execution_count": 7,
   "id": "7fa4ea1a",
   "metadata": {},
   "outputs": [
    {
     "name": "stdout",
     "output_type": "stream",
     "text": [
      "Number of images: 512\n",
      "Size of image: 512x512\n",
      "Pixel size: [0.402, 0.402] mm\n",
      "Reconstruction center: [308, 216]\n",
      "0.402\n"
     ]
    }
   ],
   "source": [
    "path_to_first_file = next(data_path.glob(\"*\"))\n",
    "dcm_file = dcmread(path_to_first_file)\n",
    "print(f\"Number of images: {stacked.shape[0]}\")\n",
    "print(f\"Size of image: {stacked.shape[1]}x{stacked.shape[2]}\")\n",
    "print(f\"Pixel size: {dcm_file.PixelSpacing} mm\")\n",
    "print(f\"Reconstruction center: {dcm_file[(0x7005, 0x1007)].value}\")\n",
    "pixel_size_x = dcm_file.PixelSpacing[1]\n",
    "pixel_size_y = dcm_file.PixelSpacing[0]\n",
    "pixel_size = dcm_file.PixelSpacing[1]\n",
    "print(pixel_size_x)"
   ]
  },
  {
   "cell_type": "code",
   "execution_count": 9,
   "id": "419ecf46",
   "metadata": {},
   "outputs": [],
   "source": [
    "ids = []\n",
    "for file in cardio_path.rglob(\"*\"):\n",
    "    if file.is_file() and file.name != 'DICOMDIR':\n",
    "        dcm_file = dcmread(file)\n",
    "        try:\n",
    "            ids.append( dcm_file[ (0x0010, 0x1000)].value)\n",
    "        except KeyError:\n",
    "            ids.append(dcm_file[ (0x0010, 0x0030)].value)"
   ]
  },
  {
   "cell_type": "code",
   "execution_count": 13,
   "id": "6f08afe1",
   "metadata": {},
   "outputs": [],
   "source": [
    "counter = collections.Counter(ids)"
   ]
  },
  {
   "cell_type": "code",
   "execution_count": 14,
   "id": "e230600b",
   "metadata": {},
   "outputs": [
    {
     "data": {
      "text/plain": [
       "Counter({'3112192': 3506,\n",
       "         '3119757': 2718,\n",
       "         '2144676': 4385,\n",
       "         '19360121': 3835,\n",
       "         '19380721': 1583,\n",
       "         '19471126': 4511,\n",
       "         '1616263': 2667,\n",
       "         '3114613': 2329,\n",
       "         '19550528': 2898,\n",
       "         '102209': 2327})"
      ]
     },
     "execution_count": 14,
     "metadata": {},
     "output_type": "execute_result"
    }
   ],
   "source": [
    "counter"
   ]
  },
  {
   "cell_type": "code",
   "execution_count": 15,
   "id": "c8177bbd",
   "metadata": {},
   "outputs": [
    {
     "name": "stdout",
     "output_type": "stream",
     "text": [
      "Counter({'19471126': 4511, '2144676': 4385, '19360121': 3835, '3112192': 3506, '19550528': 2898, '3119757': 2718, '1616263': 2667, '3114613': 2329, '102209': 2327, '19380721': 1583})\n"
     ]
    }
   ],
   "source": [
    "print(counter)"
   ]
  },
  {
   "cell_type": "code",
   "execution_count": 21,
   "id": "28f21101",
   "metadata": {},
   "outputs": [
    {
     "data": {
      "text/plain": [
       "dict_values([3506, 2718, 4385, 3835, 1583, 4511, 2667, 2329, 2898, 2327])"
      ]
     },
     "execution_count": 21,
     "metadata": {},
     "output_type": "execute_result"
    }
   ],
   "source": [
    "counter.values()"
   ]
  },
  {
   "cell_type": "code",
   "execution_count": null,
   "id": "a99e857b",
   "metadata": {},
   "outputs": [],
   "source": []
  }
 ],
 "metadata": {
  "kernelspec": {
   "display_name": "Python 3 (ipykernel)",
   "language": "python",
   "name": "python3"
  },
  "language_info": {
   "codemirror_mode": {
    "name": "ipython",
    "version": 3
   },
   "file_extension": ".py",
   "mimetype": "text/x-python",
   "name": "python",
   "nbconvert_exporter": "python",
   "pygments_lexer": "ipython3",
   "version": "3.9.7"
  }
 },
 "nbformat": 4,
 "nbformat_minor": 5
}
